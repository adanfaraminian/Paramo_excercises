{
 "cells": [
  {
   "cell_type": "markdown",
   "id": "d232cb1e-a71e-49cb-b55d-283096f6072d",
   "metadata": {},
   "source": [
    "# Data Science Challenge"
   ]
  },
  {
   "cell_type": "markdown",
   "id": "6199154d-5cda-4bd1-8d04-fcf6338f42b2",
   "metadata": {},
   "source": [
    "**_Autor:_** Faramiñán Adán"
   ]
  },
  {
   "cell_type": "markdown",
   "id": "e9bb4b61-62ec-48c0-8dbf-fd734f55f877",
   "metadata": {},
   "source": [
    "PizzaBytes wants to add five new pizzas to their offering, however they are struggling with deciding their prices. What they do know is that they want their pricing to be aligned as much as possible with their current products. Could you assist them in this endeavor using your data science skills?\n",
    "Below you have a dataset consisting of 15 pizzas, the ingredients used, and their prices. Can you estimate the prices for the five new pizzas?"
   ]
  },
  {
   "cell_type": "markdown",
   "id": "0d641483-e3ef-4c40-a9da-b5a94a792020",
   "metadata": {},
   "source": [
    "## Data Load"
   ]
  }
 ],
 "metadata": {
  "kernelspec": {
   "display_name": "Python 3 (ipykernel)",
   "language": "python",
   "name": "python3"
  },
  "language_info": {
   "codemirror_mode": {
    "name": "ipython",
    "version": 3
   },
   "file_extension": ".py",
   "mimetype": "text/x-python",
   "name": "python",
   "nbconvert_exporter": "python",
   "pygments_lexer": "ipython3",
   "version": "3.8.12"
  }
 },
 "nbformat": 4,
 "nbformat_minor": 5
}
