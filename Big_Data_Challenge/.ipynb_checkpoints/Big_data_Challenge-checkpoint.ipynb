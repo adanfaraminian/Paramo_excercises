{
 "cells": [
  {
   "cell_type": "markdown",
   "metadata": {},
   "source": [
    "# Big Data Challenge"
   ]
  },
  {
   "cell_type": "markdown",
   "metadata": {},
   "source": [
    "Considering the 3 datasets (attached in the pdf), write PySpark statements to perform the required operations:\n",
    "\n",
    "1. Create 3 data frames with the above data\n",
    "2. Rename the columns by using using capital letters and replace '_' with space\n",
    "3. Format birth_date as 01.Jan.2021\n",
    "4. Add a new column in employeeData where you compute the company email address by the following rule: ``[first 2 letter of first_name]`` ``[last_name]@company.com``\n",
    "5. Calculate the average salary for each job role\n",
    "6. Add a flag (set value to True) in salaryData if the average salary of the person is lower than the average salary for their job role "
   ]
  },
  {
   "cell_type": "markdown",
   "metadata": {},
   "source": [
    "## Data"
   ]
  },
  {
   "cell_type": "markdown",
   "metadata": {},
   "source": [
    "The first step is to create 3 dataframes with the proposed data. This task was done with [Pandas](https://pandas.pydata.org/)."
   ]
  },
  {
   "cell_type": "code",
   "execution_count": 1,
   "metadata": {},
   "outputs": [],
   "source": [
    "#employee values\n",
    "employeeColumn = [\"emp_no\", \"birth_date\", \"first_name\", \"last_name\", \"gender\", \"hire_date\"]\n",
    "employeeData = [\n",
    "[\"10001\",\"1953-09-02\",\"Georgi\",\"Facello\",\"M\",\"1986-06-26\"],\n",
    "[\"10002\",\"1964-06-02\",\"Bezalel\",\"Simmel\",\"F\",\"1985-11-21\"],\n",
    "[\"10003\",\"1959-12-03\",\"Parto\",\"Bamford\",\"M\",\"1986-08-28\"],\n",
    "[\"10004\",\"1954-05-01\",\"Chirstian\",\"Koblick\",\"M\",\"1986-12-01\"],\n",
    "[\"10005\",\"1955-01-21\",\"Kyoichi\",\"Maliniak\",\"M\",\"1989-09-12\"]\n",
    "] "
   ]
  },
  {
   "cell_type": "code",
   "execution_count": 2,
   "metadata": {},
   "outputs": [],
   "source": [
    "#Job values\n",
    "jobColumn = [\"emp_no\", \"title\", \"from_date\" , \"to_date\"] \n",
    "jobData = [\n",
    "[\"10001\",\"Senior Engineer\",\"1986-06-26\",\"9999-01-01\"],\n",
    "[\"10002\",\"Staff\",\"1996-08-03\",\"9999-01-01\"],\n",
    "[\"10003\",\"Senior Engineer\",\"1995-12-03\",\"9999-01-01\"],\n",
    "[\"10004\",\"Senior Engineer\",\"1995-12-01\",\"9999-01-01\"],\n",
    "[\"10005\",\"Senior Staff\",\"1996-09-12\",\"9999-01-01\"]\n",
    "] "
   ]
  },
  {
   "cell_type": "code",
   "execution_count": 3,
   "metadata": {},
   "outputs": [],
   "source": [
    "#Salary values\n",
    "salaryColumn = [\"emp_no\", \"title\", \"from_date\" , \"to_date\"] \n",
    "salaryData= [\n",
    "[\"10001\",\"66074\",\"1988-06-25\",\"1989-06-25\"], [\"10001\",\"62102\",\"1987-06-26\",\"1988-06-25\"],\n",
    "[\"10001\",\"60117\",\"1986-06-26\",\"1987-06-26\"] , [\"10002\",\"72527\",\"2001-08-02\",\"9999-01-01\"],\n",
    "[\"10002\",\"71963\",\"2000-08-02\",\"2001-08-02\"], [\"10002\",\"69366\",\"1999-08-03\",\"2000-08-02\"] ,\n",
    "[\"10003\",\"43311\",\"2001-12-01\",\"9999-01-01\"], [\"10003\",\"43699\",\"2000-12-01\",\"2001-12-01\"],\n",
    "[\"10003\",\"43478\",\"1999-12-02\",\"2000-12-01\"] ,\n",
    "[\"10004\",\"74057\",\"2001-11-27\",\"9999-01-01\"], [\"10004\",\"70698\",\"2000-11-27\",\"2001-11-27\"],\n",
    "[\"10004\",\"69722\",\"1999-11-28\",\"2000-11-27\"],\n",
    "[\"10005\",\"94692\",\"2001-09-09\",\"9999-01-01\"], [\"10005\",\"91453\",\"2000-09-09\",\"2001-09-09\"],\n",
    "[\"10005\",\"90531\",\"1999-09-10\",\"2000-09-09\"]\n",
    "] "
   ]
  },
  {
   "cell_type": "code",
   "execution_count": 4,
   "metadata": {},
   "outputs": [],
   "source": [
    "import pandas as pd\n",
    "employee = pd.DataFrame(data = employeeData, columns = employeeColumn)\n",
    "jobs = pd.DataFrame(data = jobData, columns = jobColumn)\n",
    "salary = pd.DataFrame(data = salaryData, columns = salaryColumn)"
   ]
  },
  {
   "cell_type": "code",
   "execution_count": 5,
   "metadata": {},
   "outputs": [
    {
     "data": {
      "text/html": [
       "<div>\n",
       "<style scoped>\n",
       "    .dataframe tbody tr th:only-of-type {\n",
       "        vertical-align: middle;\n",
       "    }\n",
       "\n",
       "    .dataframe tbody tr th {\n",
       "        vertical-align: top;\n",
       "    }\n",
       "\n",
       "    .dataframe thead th {\n",
       "        text-align: right;\n",
       "    }\n",
       "</style>\n",
       "<table border=\"1\" class=\"dataframe\">\n",
       "  <thead>\n",
       "    <tr style=\"text-align: right;\">\n",
       "      <th></th>\n",
       "      <th>emp_no</th>\n",
       "      <th>birth_date</th>\n",
       "      <th>first_name</th>\n",
       "      <th>last_name</th>\n",
       "      <th>gender</th>\n",
       "      <th>hire_date</th>\n",
       "    </tr>\n",
       "  </thead>\n",
       "  <tbody>\n",
       "    <tr>\n",
       "      <th>0</th>\n",
       "      <td>10001</td>\n",
       "      <td>1953-09-02</td>\n",
       "      <td>Georgi</td>\n",
       "      <td>Facello</td>\n",
       "      <td>M</td>\n",
       "      <td>1986-06-26</td>\n",
       "    </tr>\n",
       "    <tr>\n",
       "      <th>1</th>\n",
       "      <td>10002</td>\n",
       "      <td>1964-06-02</td>\n",
       "      <td>Bezalel</td>\n",
       "      <td>Simmel</td>\n",
       "      <td>F</td>\n",
       "      <td>1985-11-21</td>\n",
       "    </tr>\n",
       "    <tr>\n",
       "      <th>2</th>\n",
       "      <td>10003</td>\n",
       "      <td>1959-12-03</td>\n",
       "      <td>Parto</td>\n",
       "      <td>Bamford</td>\n",
       "      <td>M</td>\n",
       "      <td>1986-08-28</td>\n",
       "    </tr>\n",
       "    <tr>\n",
       "      <th>3</th>\n",
       "      <td>10004</td>\n",
       "      <td>1954-05-01</td>\n",
       "      <td>Chirstian</td>\n",
       "      <td>Koblick</td>\n",
       "      <td>M</td>\n",
       "      <td>1986-12-01</td>\n",
       "    </tr>\n",
       "    <tr>\n",
       "      <th>4</th>\n",
       "      <td>10005</td>\n",
       "      <td>1955-01-21</td>\n",
       "      <td>Kyoichi</td>\n",
       "      <td>Maliniak</td>\n",
       "      <td>M</td>\n",
       "      <td>1989-09-12</td>\n",
       "    </tr>\n",
       "  </tbody>\n",
       "</table>\n",
       "</div>"
      ],
      "text/plain": [
       "  emp_no  birth_date first_name last_name gender   hire_date\n",
       "0  10001  1953-09-02     Georgi   Facello      M  1986-06-26\n",
       "1  10002  1964-06-02    Bezalel    Simmel      F  1985-11-21\n",
       "2  10003  1959-12-03      Parto   Bamford      M  1986-08-28\n",
       "3  10004  1954-05-01  Chirstian   Koblick      M  1986-12-01\n",
       "4  10005  1955-01-21    Kyoichi  Maliniak      M  1989-09-12"
      ]
     },
     "execution_count": 5,
     "metadata": {},
     "output_type": "execute_result"
    }
   ],
   "source": [
    "employee.head(5)"
   ]
  },
  {
   "cell_type": "code",
   "execution_count": 6,
   "metadata": {},
   "outputs": [
    {
     "data": {
      "text/html": [
       "<div>\n",
       "<style scoped>\n",
       "    .dataframe tbody tr th:only-of-type {\n",
       "        vertical-align: middle;\n",
       "    }\n",
       "\n",
       "    .dataframe tbody tr th {\n",
       "        vertical-align: top;\n",
       "    }\n",
       "\n",
       "    .dataframe thead th {\n",
       "        text-align: right;\n",
       "    }\n",
       "</style>\n",
       "<table border=\"1\" class=\"dataframe\">\n",
       "  <thead>\n",
       "    <tr style=\"text-align: right;\">\n",
       "      <th></th>\n",
       "      <th>emp_no</th>\n",
       "      <th>title</th>\n",
       "      <th>from_date</th>\n",
       "      <th>to_date</th>\n",
       "    </tr>\n",
       "  </thead>\n",
       "  <tbody>\n",
       "    <tr>\n",
       "      <th>0</th>\n",
       "      <td>10001</td>\n",
       "      <td>Senior Engineer</td>\n",
       "      <td>1986-06-26</td>\n",
       "      <td>9999-01-01</td>\n",
       "    </tr>\n",
       "    <tr>\n",
       "      <th>1</th>\n",
       "      <td>10002</td>\n",
       "      <td>Staff</td>\n",
       "      <td>1996-08-03</td>\n",
       "      <td>9999-01-01</td>\n",
       "    </tr>\n",
       "    <tr>\n",
       "      <th>2</th>\n",
       "      <td>10003</td>\n",
       "      <td>Senior Engineer</td>\n",
       "      <td>1995-12-03</td>\n",
       "      <td>9999-01-01</td>\n",
       "    </tr>\n",
       "    <tr>\n",
       "      <th>3</th>\n",
       "      <td>10004</td>\n",
       "      <td>Senior Engineer</td>\n",
       "      <td>1995-12-01</td>\n",
       "      <td>9999-01-01</td>\n",
       "    </tr>\n",
       "    <tr>\n",
       "      <th>4</th>\n",
       "      <td>10005</td>\n",
       "      <td>Senior Staff</td>\n",
       "      <td>1996-09-12</td>\n",
       "      <td>9999-01-01</td>\n",
       "    </tr>\n",
       "  </tbody>\n",
       "</table>\n",
       "</div>"
      ],
      "text/plain": [
       "  emp_no            title   from_date     to_date\n",
       "0  10001  Senior Engineer  1986-06-26  9999-01-01\n",
       "1  10002            Staff  1996-08-03  9999-01-01\n",
       "2  10003  Senior Engineer  1995-12-03  9999-01-01\n",
       "3  10004  Senior Engineer  1995-12-01  9999-01-01\n",
       "4  10005     Senior Staff  1996-09-12  9999-01-01"
      ]
     },
     "execution_count": 6,
     "metadata": {},
     "output_type": "execute_result"
    }
   ],
   "source": [
    "jobs.head(5)"
   ]
  },
  {
   "cell_type": "code",
   "execution_count": 7,
   "metadata": {},
   "outputs": [
    {
     "data": {
      "text/html": [
       "<div>\n",
       "<style scoped>\n",
       "    .dataframe tbody tr th:only-of-type {\n",
       "        vertical-align: middle;\n",
       "    }\n",
       "\n",
       "    .dataframe tbody tr th {\n",
       "        vertical-align: top;\n",
       "    }\n",
       "\n",
       "    .dataframe thead th {\n",
       "        text-align: right;\n",
       "    }\n",
       "</style>\n",
       "<table border=\"1\" class=\"dataframe\">\n",
       "  <thead>\n",
       "    <tr style=\"text-align: right;\">\n",
       "      <th></th>\n",
       "      <th>emp_no</th>\n",
       "      <th>title</th>\n",
       "      <th>from_date</th>\n",
       "      <th>to_date</th>\n",
       "    </tr>\n",
       "  </thead>\n",
       "  <tbody>\n",
       "    <tr>\n",
       "      <th>0</th>\n",
       "      <td>10001</td>\n",
       "      <td>66074</td>\n",
       "      <td>1988-06-25</td>\n",
       "      <td>1989-06-25</td>\n",
       "    </tr>\n",
       "    <tr>\n",
       "      <th>1</th>\n",
       "      <td>10001</td>\n",
       "      <td>62102</td>\n",
       "      <td>1987-06-26</td>\n",
       "      <td>1988-06-25</td>\n",
       "    </tr>\n",
       "    <tr>\n",
       "      <th>2</th>\n",
       "      <td>10001</td>\n",
       "      <td>60117</td>\n",
       "      <td>1986-06-26</td>\n",
       "      <td>1987-06-26</td>\n",
       "    </tr>\n",
       "    <tr>\n",
       "      <th>3</th>\n",
       "      <td>10002</td>\n",
       "      <td>72527</td>\n",
       "      <td>2001-08-02</td>\n",
       "      <td>9999-01-01</td>\n",
       "    </tr>\n",
       "    <tr>\n",
       "      <th>4</th>\n",
       "      <td>10002</td>\n",
       "      <td>71963</td>\n",
       "      <td>2000-08-02</td>\n",
       "      <td>2001-08-02</td>\n",
       "    </tr>\n",
       "  </tbody>\n",
       "</table>\n",
       "</div>"
      ],
      "text/plain": [
       "  emp_no  title   from_date     to_date\n",
       "0  10001  66074  1988-06-25  1989-06-25\n",
       "1  10001  62102  1987-06-26  1988-06-25\n",
       "2  10001  60117  1986-06-26  1987-06-26\n",
       "3  10002  72527  2001-08-02  9999-01-01\n",
       "4  10002  71963  2000-08-02  2001-08-02"
      ]
     },
     "execution_count": 7,
     "metadata": {},
     "output_type": "execute_result"
    }
   ],
   "source": [
    "salary.head(5)"
   ]
  },
  {
   "cell_type": "markdown",
   "metadata": {},
   "source": [
    "## PySpark session"
   ]
  },
  {
   "cell_type": "markdown",
   "metadata": {},
   "source": [
    "With the data frames already created, they are loaded into the Spark session. Spark gives us more efficiency because it lets us spread data and computations over clusters with multiple nodes.\n",
    "\n",
    "As each node works on its own subset of the total data, it also carries out a part of the total calculations required, so that both data processing and computation are performed in parallel over the nodes in the cluster. It is a fact that parallel computation can make certain types of programming tasks much faster (ref: [DataCamp](https://www.datacamp.com/))"
   ]
  },
  {
   "cell_type": "code",
   "execution_count": 8,
   "metadata": {},
   "outputs": [
    {
     "name": "stdout",
     "output_type": "stream",
     "text": [
      "<pyspark.sql.session.SparkSession object at 0x000001CD7D9C5250>\n"
     ]
    }
   ],
   "source": [
    "# Import SparkSession from pyspark.sql\n",
    "from pyspark.sql import SparkSession\n",
    "\n",
    "# Create my_spark\n",
    "my_spark = SparkSession.builder.getOrCreate()\n",
    "my_spark.builder.config(\"spark.memory.offHeap.size\",\"5g\")\n",
    "my_spark.conf.set(\"spark.sql.execution.arrow.pyspark.enabled\", \"true\")\n",
    "# Print my_spark\n",
    "print(my_spark)"
   ]
  },
  {
   "cell_type": "markdown",
   "metadata": {},
   "source": [
    "## Create a DataFrame in SparkSession"
   ]
  },
  {
   "cell_type": "markdown",
   "metadata": {},
   "source": [
    "After creating the session in Spark, the next step is to convert the Pandas data to a Data Frame (Spark)."
   ]
  },
  {
   "cell_type": "code",
   "execution_count": 9,
   "metadata": {},
   "outputs": [],
   "source": [
    "# Create temp tables from employee, jobs and salary\n",
    "employee_temp = my_spark.createDataFrame(employee)\n",
    "jobs_temp = my_spark.createDataFrame(jobs)\n",
    "salary_temp = my_spark.createDataFrame(salary)\n"
   ]
  },
  {
   "cell_type": "markdown",
   "metadata": {},
   "source": [
    "Rename the columns by using using capital letters and replace \"_\" with space:"
   ]
  },
  {
   "cell_type": "code",
   "execution_count": 11,
   "metadata": {},
   "outputs": [
    {
     "name": "stdout",
     "output_type": "stream",
     "text": [
      "root\n",
      " |-- emp no: string (nullable = true)\n",
      " |-- birth date: string (nullable = true)\n",
      " |-- first name: string (nullable = true)\n",
      " |-- last name: string (nullable = true)\n",
      " |-- gender: string (nullable = true)\n",
      " |-- hire date: string (nullable = true)\n",
      "\n"
     ]
    }
   ],
   "source": [
    "for i in employee_temp.columns: \n",
    "    employee_temp = employee_temp.withColumnRenamed(i, i.replace(\"_\", \" \"))\n",
    "    \n",
    "employee_temp.printSchema()"
   ]
  },
  {
   "cell_type": "code",
   "execution_count": 12,
   "metadata": {},
   "outputs": [
    {
     "name": "stdout",
     "output_type": "stream",
     "text": [
      "+------+----------+----------+---------+------+----------+\n",
      "|emp no|birth date|first name|last name|gender| hire date|\n",
      "+------+----------+----------+---------+------+----------+\n",
      "| 10001|1953-09-02|    Georgi|  Facello|     M|1986-06-26|\n",
      "| 10002|1964-06-02|   Bezalel|   Simmel|     F|1985-11-21|\n",
      "| 10003|1959-12-03|     Parto|  Bamford|     M|1986-08-28|\n",
      "| 10004|1954-05-01| Chirstian|  Koblick|     M|1986-12-01|\n",
      "| 10005|1955-01-21|   Kyoichi| Maliniak|     M|1989-09-12|\n",
      "+------+----------+----------+---------+------+----------+\n",
      "\n"
     ]
    }
   ],
   "source": [
    "employee_temp.show()"
   ]
  },
  {
   "cell_type": "markdown",
   "metadata": {},
   "source": [
    "Format birthdate as ``01.Jan.2021``"
   ]
  },
  {
   "cell_type": "code",
   "execution_count": 13,
   "metadata": {},
   "outputs": [
    {
     "name": "stdout",
     "output_type": "stream",
     "text": [
      "+------+-----------+----------+---------+------+----------+\n",
      "|emp no| birth date|first name|last name|gender| hire date|\n",
      "+------+-----------+----------+---------+------+----------+\n",
      "| 10001|02.Sep.1953|    Georgi|  Facello|     M|1986-06-26|\n",
      "| 10002|02.Jun.1964|   Bezalel|   Simmel|     F|1985-11-21|\n",
      "| 10003|03.Dec.1959|     Parto|  Bamford|     M|1986-08-28|\n",
      "| 10004|01.May.1954| Chirstian|  Koblick|     M|1986-12-01|\n",
      "| 10005|21.Jan.1955|   Kyoichi| Maliniak|     M|1989-09-12|\n",
      "+------+-----------+----------+---------+------+----------+\n",
      "\n"
     ]
    }
   ],
   "source": [
    "from pyspark.sql.functions import col, date_format\n",
    "employee_temp = employee_temp.withColumn(\"birth date\",\n",
    "    date_format(col(\"birth date\"), \"dd.MMM.yyyy\"))\n",
    "employee_temp.show()"
   ]
  },
  {
   "cell_type": "markdown",
   "metadata": {},
   "source": [
    "Add a new column in employeeData where you compute the company email address by the following rule: ``[first 2 letter of first_name][last_name]@company.com``"
   ]
  },
  {
   "cell_type": "code",
   "execution_count": 14,
   "metadata": {},
   "outputs": [
    {
     "name": "stdout",
     "output_type": "stream",
     "text": [
      "+------+-----------+----------+---------+------+----------+--------------------+\n",
      "|emp no| birth date|first name|last name|gender| hire date|               email|\n",
      "+------+-----------+----------+---------+------+----------+--------------------+\n",
      "| 10001|02.Sep.1953|    Georgi|  Facello|     M|1986-06-26|gefacello@company...|\n",
      "| 10002|02.Jun.1964|   Bezalel|   Simmel|     F|1985-11-21|besimmel@company.com|\n",
      "| 10003|03.Dec.1959|     Parto|  Bamford|     M|1986-08-28|pabamford@company...|\n",
      "| 10004|01.May.1954| Chirstian|  Koblick|     M|1986-12-01|chkoblick@company...|\n",
      "| 10005|21.Jan.1955|   Kyoichi| Maliniak|     M|1989-09-12|kymaliniak@compan...|\n",
      "+------+-----------+----------+---------+------+----------+--------------------+\n",
      "\n"
     ]
    }
   ],
   "source": [
    "from pyspark.sql.functions import concat,lit,lower\n",
    "# Add new column\n",
    "employee_temp = employee_temp.withColumn(\"email\", \n",
    "                                         concat(lower(employee_temp[\"first name\"].substr(1, 2)),\n",
    "                                                lower(employee_temp[\"last name\"]),\n",
    "                                                lit('@company.com')))\n",
    "\n",
    "employee_temp.show()\n",
    "#employee_temp.createOrReplaceTempView(\"employee_temp\")\n",
    "#concat(employee_temp.first_name.substr(1, 2),employee_temp.last_name.substr(1, 2),lit('_'))"
   ]
  },
  {
   "cell_type": "markdown",
   "metadata": {},
   "source": [
    "## SQL statements"
   ]
  },
  {
   "cell_type": "markdown",
   "metadata": {},
   "source": [
    "Calculate the average salary for each job role"
   ]
  },
  {
   "cell_type": "code",
   "execution_count": 15,
   "metadata": {},
   "outputs": [],
   "source": [
    "salary_temp = salary_temp.withColumnRenamed(\"title\", \"salary\")\n",
    "jobs_temp = jobs_temp.withColumnRenamed(\"title\", \"jobs\")\n"
   ]
  },
  {
   "cell_type": "code",
   "execution_count": 22,
   "metadata": {},
   "outputs": [
    {
     "name": "stdout",
     "output_type": "stream",
     "text": [
      "Table(name='employee_temp', database=None, description=None, tableType='TEMPORARY', isTemporary=True)\n",
      "Table(name='jobs_temp', database=None, description=None, tableType='TEMPORARY', isTemporary=True)\n",
      "Table(name='salary_avg_temp', database=None, description=None, tableType='TEMPORARY', isTemporary=True)\n",
      "Table(name='salary_temp', database=None, description=None, tableType='TEMPORARY', isTemporary=True)\n"
     ]
    }
   ],
   "source": [
    "# Print the tables in the catalog\n",
    "for i in my_spark.catalog.listTables():\n",
    "    print(i)"
   ]
  },
  {
   "cell_type": "code",
   "execution_count": 16,
   "metadata": {},
   "outputs": [
    {
     "name": "stdout",
     "output_type": "stream",
     "text": [
      "+------+------+----------+----------+\n",
      "|emp_no|salary| from_date|   to_date|\n",
      "+------+------+----------+----------+\n",
      "| 10001| 66074|1988-06-25|1989-06-25|\n",
      "| 10001| 62102|1987-06-26|1988-06-25|\n",
      "| 10001| 60117|1986-06-26|1987-06-26|\n",
      "+------+------+----------+----------+\n",
      "only showing top 3 rows\n",
      "\n"
     ]
    }
   ],
   "source": [
    "salary_temp.show(3)"
   ]
  },
  {
   "cell_type": "code",
   "execution_count": 17,
   "metadata": {},
   "outputs": [
    {
     "name": "stdout",
     "output_type": "stream",
     "text": [
      "+------+---------------+----------+----------+\n",
      "|emp_no|           jobs| from_date|   to_date|\n",
      "+------+---------------+----------+----------+\n",
      "| 10001|Senior Engineer|1986-06-26|9999-01-01|\n",
      "| 10002|          Staff|1996-08-03|9999-01-01|\n",
      "| 10003|Senior Engineer|1995-12-03|9999-01-01|\n",
      "+------+---------------+----------+----------+\n",
      "only showing top 3 rows\n",
      "\n"
     ]
    }
   ],
   "source": [
    "jobs_temp.show(3)"
   ]
  },
  {
   "cell_type": "code",
   "execution_count": 18,
   "metadata": {},
   "outputs": [],
   "source": [
    "# Add temp tables to the catalog\n",
    "employee_temp.createOrReplaceTempView(\"employee_temp\")\n",
    "jobs_temp.createOrReplaceTempView(\"jobs_temp\")\n",
    "salary_temp.createOrReplaceTempView(\"salary_temp\")"
   ]
  },
  {
   "cell_type": "code",
   "execution_count": 19,
   "metadata": {},
   "outputs": [
    {
     "name": "stdout",
     "output_type": "stream",
     "text": [
      "+---------------+--------+\n",
      "|           jobs|  Salary|\n",
      "+---------------+--------+\n",
      "|   Senior Staff|92225.33|\n",
      "|          Staff|71285.33|\n",
      "|Senior Engineer|59250.89|\n",
      "+---------------+--------+\n",
      "\n"
     ]
    }
   ],
   "source": [
    "query = \"\"\"SELECT jt.jobs, ROUND(AVG(salary),2) as Salary \n",
    "            FROM salary_temp st, jobs_temp jt \n",
    "            WHERE st.emp_no = jt.emp_no\n",
    "            GROUP BY jt.jobs\n",
    "            ORDER BY Salary DESC\"\"\"\n",
    "my_spark.sql(query).show()\n",
    "salaray_avg_temp = my_spark.sql(query)\n",
    "\n",
    "#Create a view of salary_avf_temp\n",
    "salaray_avg_temp.createOrReplaceTempView(\"salary_avg_temp\")"
   ]
  },
  {
   "cell_type": "markdown",
   "metadata": {},
   "source": [
    "Add a flag (set value to True) in salaryData if the average salary of the person is lower than the\n",
    "average salary for their job role "
   ]
  },
  {
   "cell_type": "code",
   "execution_count": 21,
   "metadata": {},
   "outputs": [
    {
     "name": "stdout",
     "output_type": "stream",
     "text": [
      "+------+---------------+----------+-----------+\n",
      "|emp_no|            Job|avg_salary|flag_salary|\n",
      "+------+---------------+----------+-----------+\n",
      "| 10001|Senior Engineer|  62764.33|      False|\n",
      "| 10002|          Staff|  71285.33|      False|\n",
      "| 10003|Senior Engineer|   43496.0|       True|\n",
      "| 10004|Senior Engineer|  71492.33|      False|\n",
      "| 10005|   Senior Staff|  92225.33|      False|\n",
      "+------+---------------+----------+-----------+\n",
      "\n"
     ]
    }
   ],
   "source": [
    "query = \"\"\"SELECT st.emp_no, FIRST(jt.jobs) as Job,\n",
    "                  ROUND(AVG(st.salary),2) as avg_salary,\n",
    "                  IF(ROUND(AVG(st.salary),2) < FIRST(sat.Salary)  , \"True\", \"False\") as flag_salary  \n",
    "            FROM salary_temp st, jobs_temp jt, salary_avg_temp sat\n",
    "            WHERE st.emp_no = jt.emp_no AND sat.jobs = jt.jobs\n",
    "            GROUP BY st.emp_no\n",
    "\"\"\"\n",
    "\n",
    "my_spark.sql(query).show()"
   ]
  }
 ],
 "metadata": {
  "kernelspec": {
   "display_name": "Python 3",
   "language": "python",
   "name": "python3"
  },
  "language_info": {
   "codemirror_mode": {
    "name": "ipython",
    "version": 3
   },
   "file_extension": ".py",
   "mimetype": "text/x-python",
   "name": "python",
   "nbconvert_exporter": "python",
   "pygments_lexer": "ipython3",
   "version": "3.8.3"
  }
 },
 "nbformat": 4,
 "nbformat_minor": 4
}
